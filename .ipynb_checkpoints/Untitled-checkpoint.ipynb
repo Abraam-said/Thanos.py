{
 "cells": [
  {
   "cell_type": "code",
   "execution_count": 10,
   "id": "ed753656",
   "metadata": {},
   "outputs": [],
   "source": [
    "import os\n",
    "import shutil\n",
    "import random"
   ]
  },
  {
   "cell_type": "code",
   "execution_count": 4,
   "id": "0781087b",
   "metadata": {},
   "outputs": [],
   "source": [
    "os.chdir(\"./universe/\")"
   ]
  },
  {
   "cell_type": "code",
   "execution_count": 6,
   "id": "25ef66fe",
   "metadata": {},
   "outputs": [
    {
     "data": {
      "text/plain": [
       "['cover001.png',\n",
       " 'cover002.png',\n",
       " 'cover003.png',\n",
       " 'cover004.png',\n",
       " 'cover005.png',\n",
       " 'cover006.png',\n",
       " 'cover007.png',\n",
       " 'cover008.png',\n",
       " 'cover009.png',\n",
       " 'cover010.png',\n",
       " 'cover011.png',\n",
       " 'cover012.png',\n",
       " 'cover013.png',\n",
       " 'cover014.png',\n",
       " 'cover015.png',\n",
       " 'cover016.png',\n",
       " 'cover017.png',\n",
       " 'cover018.png',\n",
       " 'cover019.png',\n",
       " 'cover020.png',\n",
       " 'cover021.png',\n",
       " 'cover022.png',\n",
       " 'cover023.png',\n",
       " 'cover024.png',\n",
       " 'cover025.png',\n",
       " 'cover026.png',\n",
       " 'cover027.png',\n",
       " 'cover028.png',\n",
       " 'cover029.png',\n",
       " 'cover030.png',\n",
       " 'cover031.png',\n",
       " 'cover032.png',\n",
       " 'cover033.png',\n",
       " 'cover034.png',\n",
       " 'cover035.png',\n",
       " 'cover036.png',\n",
       " 'cover037.png',\n",
       " 'cover038.png',\n",
       " 'cover039.png',\n",
       " 'cover040.png',\n",
       " 'cover041.png',\n",
       " 'cover042.png',\n",
       " 'cover043.png',\n",
       " 'cover044.png',\n",
       " 'cover045.png',\n",
       " 'cover046.png',\n",
       " 'cover047.png',\n",
       " 'cover048.png',\n",
       " 'cover049.png',\n",
       " 'cover050.png',\n",
       " 'desktop.ini']"
      ]
     },
     "execution_count": 6,
     "metadata": {},
     "output_type": "execute_result"
    }
   ],
   "source": [
    "os.listdir(\".\")"
   ]
  },
  {
   "cell_type": "code",
   "execution_count": 7,
   "id": "d19648e6",
   "metadata": {},
   "outputs": [],
   "source": [
    "os.remove(\"./desktop.ini\")"
   ]
  },
  {
   "cell_type": "code",
   "execution_count": 8,
   "id": "08375040",
   "metadata": {},
   "outputs": [],
   "source": [
    "os.makedirs(\"../backup\")"
   ]
  },
  {
   "cell_type": "code",
   "execution_count": 9,
   "id": "1aed3cd4",
   "metadata": {},
   "outputs": [
    {
     "data": {
      "text/plain": [
       "'../backup/'"
      ]
     },
     "execution_count": 9,
     "metadata": {},
     "output_type": "execute_result"
    }
   ],
   "source": [
    "shutil.copytree(\".\" , \"../backup/\" , dirs_exist_ok=True)"
   ]
  },
  {
   "cell_type": "code",
   "execution_count": 11,
   "id": "05b815ea",
   "metadata": {},
   "outputs": [
    {
     "name": "stdout",
     "output_type": "stream",
     "text": [
      "Destroying cover016.png\n",
      "The number of people now is 49\n",
      "Destroying cover007.png\n",
      "The number of people now is 48\n",
      "Destroying cover030.png\n",
      "The number of people now is 47\n",
      "Destroying cover032.png\n",
      "The number of people now is 46\n",
      "Destroying cover046.png\n",
      "The number of people now is 45\n",
      "Destroying cover018.png\n",
      "The number of people now is 44\n",
      "Destroying cover029.png\n",
      "The number of people now is 43\n",
      "Destroying cover034.png\n",
      "The number of people now is 42\n",
      "Destroying cover047.png\n",
      "The number of people now is 41\n",
      "Destroying cover012.png\n",
      "The number of people now is 40\n",
      "Destroying cover019.png\n",
      "The number of people now is 39\n",
      "Destroying cover026.png\n",
      "The number of people now is 38\n",
      "Destroying cover024.png\n",
      "The number of people now is 37\n",
      "Destroying cover015.png\n",
      "The number of people now is 36\n",
      "Destroying cover033.png\n",
      "The number of people now is 35\n",
      "Destroying cover043.png\n",
      "The number of people now is 34\n",
      "Destroying cover014.png\n",
      "The number of people now is 33\n",
      "Destroying cover020.png\n",
      "The number of people now is 32\n",
      "Destroying cover048.png\n",
      "The number of people now is 31\n",
      "Destroying cover021.png\n",
      "The number of people now is 30\n",
      "Destroying cover008.png\n",
      "The number of people now is 29\n",
      "Destroying cover036.png\n",
      "The number of people now is 28\n",
      "Destroying cover040.png\n",
      "The number of people now is 27\n",
      "Destroying cover031.png\n",
      "The number of people now is 26\n",
      "Destroying cover045.png\n",
      "The number of people now is 25\n"
     ]
    }
   ],
   "source": [
    "for i in range(25):\n",
    "    list_of_people = os.listdir(\".\")\n",
    "    random_people = random.choice(list_of_people)\n",
    "    os.remove(random_people)\n",
    "    print(f\"Destroying {random_people}\" )\n",
    "    print(f\"The number of people now is {len(list_of_people) - 1 }\")\n",
    "    "
   ]
  },
  {
   "cell_type": "code",
   "execution_count": 13,
   "id": "1142780c",
   "metadata": {},
   "outputs": [
    {
     "data": {
      "text/plain": [
       "25"
      ]
     },
     "execution_count": 13,
     "metadata": {},
     "output_type": "execute_result"
    }
   ],
   "source": [
    "len(os.listdir(\".\"))"
   ]
  },
  {
   "cell_type": "code",
   "execution_count": null,
   "id": "42a62459",
   "metadata": {},
   "outputs": [],
   "source": []
  },
  {
   "cell_type": "code",
   "execution_count": null,
   "id": "35171679",
   "metadata": {},
   "outputs": [],
   "source": []
  },
  {
   "cell_type": "code",
   "execution_count": null,
   "id": "80cc8e4c",
   "metadata": {},
   "outputs": [],
   "source": []
  },
  {
   "cell_type": "code",
   "execution_count": null,
   "id": "aaf74b4f",
   "metadata": {},
   "outputs": [],
   "source": []
  },
  {
   "cell_type": "code",
   "execution_count": null,
   "id": "f9b734a4",
   "metadata": {},
   "outputs": [],
   "source": []
  },
  {
   "cell_type": "code",
   "execution_count": null,
   "id": "e083cfd2",
   "metadata": {},
   "outputs": [],
   "source": []
  },
  {
   "cell_type": "code",
   "execution_count": null,
   "id": "8e394190",
   "metadata": {},
   "outputs": [],
   "source": []
  },
  {
   "cell_type": "code",
   "execution_count": null,
   "id": "32f31482",
   "metadata": {},
   "outputs": [],
   "source": []
  },
  {
   "cell_type": "code",
   "execution_count": null,
   "id": "47835298",
   "metadata": {},
   "outputs": [],
   "source": []
  },
  {
   "cell_type": "code",
   "execution_count": null,
   "id": "b71abf9e",
   "metadata": {},
   "outputs": [],
   "source": []
  },
  {
   "cell_type": "code",
   "execution_count": null,
   "id": "59cd9f1c",
   "metadata": {},
   "outputs": [],
   "source": []
  },
  {
   "cell_type": "code",
   "execution_count": 1,
   "id": "9f1eaf68",
   "metadata": {},
   "outputs": [],
   "source": [
    "import os"
   ]
  },
  {
   "cell_type": "code",
   "execution_count": 2,
   "id": "e61a483a",
   "metadata": {},
   "outputs": [
    {
     "data": {
      "text/plain": [
       "['.ipynb_checkpoints',\n",
       " 'backup',\n",
       " 'desktop.ini',\n",
       " 'Thanos.ipynb',\n",
       " 'thanos.jpg',\n",
       " 'Untitled.ipynb']"
      ]
     },
     "execution_count": 2,
     "metadata": {},
     "output_type": "execute_result"
    }
   ],
   "source": [
    "os.listdir(\".\")"
   ]
  },
  {
   "cell_type": "code",
   "execution_count": 3,
   "id": "3b95101b",
   "metadata": {},
   "outputs": [],
   "source": [
    "os.chdir(\"./backup/\")"
   ]
  },
  {
   "cell_type": "code",
   "execution_count": 4,
   "id": "48c09dc2",
   "metadata": {},
   "outputs": [
    {
     "data": {
      "text/plain": [
       "['cover001.png',\n",
       " 'cover002.png',\n",
       " 'cover003.png',\n",
       " 'cover004.png',\n",
       " 'cover005.png',\n",
       " 'cover006.png',\n",
       " 'cover007.png',\n",
       " 'cover008.png',\n",
       " 'cover009.png',\n",
       " 'cover010.png',\n",
       " 'cover011.png',\n",
       " 'cover012.png',\n",
       " 'cover013.png',\n",
       " 'cover014.png',\n",
       " 'cover015.png',\n",
       " 'cover016.png',\n",
       " 'cover017.png',\n",
       " 'cover018.png',\n",
       " 'cover019.png',\n",
       " 'cover020.png',\n",
       " 'cover021.png',\n",
       " 'cover022.png',\n",
       " 'cover023.png',\n",
       " 'cover024.png',\n",
       " 'cover025.png',\n",
       " 'cover026.png',\n",
       " 'cover027.png',\n",
       " 'cover028.png',\n",
       " 'cover029.png',\n",
       " 'cover030.png',\n",
       " 'cover031.png',\n",
       " 'cover032.png',\n",
       " 'cover033.png',\n",
       " 'cover034.png',\n",
       " 'cover035.png',\n",
       " 'cover036.png',\n",
       " 'cover037.png',\n",
       " 'cover038.png',\n",
       " 'cover039.png',\n",
       " 'cover040.png',\n",
       " 'cover041.png',\n",
       " 'cover042.png',\n",
       " 'cover043.png',\n",
       " 'cover044.png',\n",
       " 'cover045.png',\n",
       " 'cover046.png',\n",
       " 'cover047.png',\n",
       " 'cover048.png',\n",
       " 'cover049.png',\n",
       " 'cover050.png',\n",
       " 'desktop.ini']"
      ]
     },
     "execution_count": 4,
     "metadata": {},
     "output_type": "execute_result"
    }
   ],
   "source": [
    "os.listdir(\".\")"
   ]
  },
  {
   "cell_type": "code",
   "execution_count": 5,
   "id": "0ccabcd6",
   "metadata": {},
   "outputs": [],
   "source": [
    "os.remove(\"desktop.ini\")"
   ]
  },
  {
   "cell_type": "code",
   "execution_count": 7,
   "id": "64b31552",
   "metadata": {},
   "outputs": [],
   "source": [
    "list_of_people = os.listdir(\".\")"
   ]
  },
  {
   "cell_type": "code",
   "execution_count": 8,
   "id": "caccdd2f",
   "metadata": {},
   "outputs": [],
   "source": [
    "import random"
   ]
  },
  {
   "cell_type": "code",
   "execution_count": 12,
   "id": "b0833080",
   "metadata": {},
   "outputs": [
    {
     "name": "stdout",
     "output_type": "stream",
     "text": [
      "Destroying : cover029.png\n",
      "The total people now are : 49\n",
      "Destroying : cover039.png\n",
      "The total people now are : 48\n",
      "Destroying : cover034.png\n",
      "The total people now are : 47\n",
      "Destroying : cover020.png\n",
      "The total people now are : 46\n",
      "Destroying : cover046.png\n",
      "The total people now are : 45\n",
      "Destroying : cover045.png\n",
      "The total people now are : 44\n",
      "Destroying : cover048.png\n",
      "The total people now are : 43\n",
      "Destroying : cover043.png\n",
      "The total people now are : 42\n",
      "Destroying : cover050.png\n",
      "The total people now are : 41\n",
      "Destroying : cover008.png\n",
      "The total people now are : 40\n",
      "Destroying : cover030.png\n",
      "The total people now are : 39\n",
      "Destroying : cover038.png\n",
      "The total people now are : 38\n",
      "Destroying : cover001.png\n",
      "The total people now are : 37\n",
      "Destroying : cover031.png\n",
      "The total people now are : 36\n",
      "Destroying : cover040.png\n",
      "The total people now are : 35\n",
      "Destroying : cover028.png\n",
      "The total people now are : 34\n",
      "Destroying : cover036.png\n",
      "The total people now are : 33\n",
      "Destroying : cover026.png\n",
      "The total people now are : 32\n",
      "Destroying : cover024.png\n",
      "The total people now are : 31\n",
      "Destroying : cover049.png\n",
      "The total people now are : 30\n",
      "Destroying : cover009.png\n",
      "The total people now are : 29\n",
      "Destroying : cover023.png\n",
      "The total people now are : 28\n",
      "Destroying : cover016.png\n",
      "The total people now are : 27\n",
      "Destroying : cover035.png\n",
      "The total people now are : 26\n",
      "Destroying : cover003.png\n",
      "The total people now are : 25\n"
     ]
    }
   ],
   "source": [
    "for i in range(25):\n",
    "    list_of_people = os.listdir(\".\")\n",
    "    random_people = random.choice(list_of_people)\n",
    "    os.remove(random_people)\n",
    "    print(f\"Destroying : {random_people}\")\n",
    "    total_people= len(os.listdir(\".\"))\n",
    "    print(f\"The total people now are : {total_people}\")\n",
    "    "
   ]
  },
  {
   "cell_type": "code",
   "execution_count": 13,
   "id": "c9a55306",
   "metadata": {},
   "outputs": [],
   "source": [
    "import shutil"
   ]
  },
  {
   "cell_type": "code",
   "execution_count": 14,
   "id": "2a34f647",
   "metadata": {},
   "outputs": [
    {
     "data": {
      "text/plain": [
       "'D:\\\\My_Tasks\\\\Epislon\\\\My_Diploma\\\\Diploma 3\\\\Session 10\\\\Project 3 - Thanos - Copy\\\\backup'"
      ]
     },
     "execution_count": 14,
     "metadata": {},
     "output_type": "execute_result"
    }
   ],
   "source": [
    "os.getcwd()"
   ]
  },
  {
   "cell_type": "code",
   "execution_count": 17,
   "id": "6953b011",
   "metadata": {},
   "outputs": [],
   "source": [
    "os.makedirs(\"../Universe\")"
   ]
  },
  {
   "cell_type": "code",
   "execution_count": 20,
   "id": "5f4c1e40",
   "metadata": {},
   "outputs": [],
   "source": [
    "test = os.getcwd() + random.choice(list_of_people)"
   ]
  },
  {
   "cell_type": "code",
   "execution_count": null,
   "id": "37a6dbf6",
   "metadata": {},
   "outputs": [],
   "source": [
    "r"
   ]
  },
  {
   "cell_type": "code",
   "execution_count": 24,
   "id": "b01edb00",
   "metadata": {},
   "outputs": [
    {
     "data": {
      "text/plain": [
       "'../Universe/'"
      ]
     },
     "execution_count": 24,
     "metadata": {},
     "output_type": "execute_result"
    }
   ],
   "source": [
    "shutil.copytree(\".\", \"../Universe/\")"
   ]
  },
  {
   "cell_type": "code",
   "execution_count": null,
   "id": "8bada5f5",
   "metadata": {},
   "outputs": [],
   "source": [
    "list_of_people = os.listdir(\".\")\n",
    "for file in list_of_people:\n",
    "    shutil.copy(\"\")\n",
    "    "
   ]
  }
 ],
 "metadata": {
  "kernelspec": {
   "display_name": "Python 3 (ipykernel)",
   "language": "python",
   "name": "python3"
  },
  "language_info": {
   "codemirror_mode": {
    "name": "ipython",
    "version": 3
   },
   "file_extension": ".py",
   "mimetype": "text/x-python",
   "name": "python",
   "nbconvert_exporter": "python",
   "pygments_lexer": "ipython3",
   "version": "3.10.4"
  }
 },
 "nbformat": 4,
 "nbformat_minor": 5
}
